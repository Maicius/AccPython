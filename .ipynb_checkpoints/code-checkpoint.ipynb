{
 "cells": [
  {
   "cell_type": "code",
   "execution_count": 1,
   "metadata": {
    "collapsed": true
   },
   "outputs": [],
   "source": [
    "import pandas as pd\n",
    "import datetime\n",
    "import sys\n",
    "mid_pre = \"./data/\""
   ]
  },
  {
   "cell_type": "code",
   "execution_count": 2,
   "metadata": {
    "collapsed": true
   },
   "outputs": [],
   "source": [
    "def time_now():\n",
    "    return datetime.datetime.now()"
   ]
  },
  {
   "cell_type": "code",
   "execution_count": 3,
   "metadata": {},
   "outputs": [
    {
     "data": {
      "text/html": [
       "<div>\n",
       "<style>\n",
       "    .dataframe thead tr:only-child th {\n",
       "        text-align: right;\n",
       "    }\n",
       "\n",
       "    .dataframe thead th {\n",
       "        text-align: left;\n",
       "    }\n",
       "\n",
       "    .dataframe tbody tr th {\n",
       "        vertical-align: top;\n",
       "    }\n",
       "</style>\n",
       "<table border=\"1\" class=\"dataframe\">\n",
       "  <thead>\n",
       "    <tr style=\"text-align: right;\">\n",
       "      <th></th>\n",
       "      <th>user_id</th>\n",
       "      <th>item_id</th>\n",
       "      <th>behavior</th>\n",
       "      <th>date</th>\n",
       "    </tr>\n",
       "  </thead>\n",
       "  <tbody>\n",
       "    <tr>\n",
       "      <th>0</th>\n",
       "      <td>1732029186</td>\n",
       "      <td>1175762408</td>\n",
       "      <td>clk</td>\n",
       "      <td>20190620</td>\n",
       "    </tr>\n",
       "    <tr>\n",
       "      <th>1</th>\n",
       "      <td>1732029186</td>\n",
       "      <td>319336376</td>\n",
       "      <td>clk</td>\n",
       "      <td>20190619</td>\n",
       "    </tr>\n",
       "    <tr>\n",
       "      <th>2</th>\n",
       "      <td>1732029186</td>\n",
       "      <td>1162343852</td>\n",
       "      <td>clk</td>\n",
       "      <td>20190611</td>\n",
       "    </tr>\n",
       "    <tr>\n",
       "      <th>3</th>\n",
       "      <td>1732029186</td>\n",
       "      <td>1197151915</td>\n",
       "      <td>clk</td>\n",
       "      <td>20190619</td>\n",
       "    </tr>\n",
       "    <tr>\n",
       "      <th>4</th>\n",
       "      <td>1732029186</td>\n",
       "      <td>1145629824</td>\n",
       "      <td>clk</td>\n",
       "      <td>20190619</td>\n",
       "    </tr>\n",
       "    <tr>\n",
       "      <th>5</th>\n",
       "      <td>1732029186</td>\n",
       "      <td>1188080625</td>\n",
       "      <td>clk</td>\n",
       "      <td>20190617</td>\n",
       "    </tr>\n",
       "    <tr>\n",
       "      <th>6</th>\n",
       "      <td>1732029186</td>\n",
       "      <td>1162473275</td>\n",
       "      <td>clk</td>\n",
       "      <td>20190619</td>\n",
       "    </tr>\n",
       "    <tr>\n",
       "      <th>7</th>\n",
       "      <td>1732029186</td>\n",
       "      <td>1162421364</td>\n",
       "      <td>clk</td>\n",
       "      <td>20190611</td>\n",
       "    </tr>\n",
       "    <tr>\n",
       "      <th>8</th>\n",
       "      <td>1732029186</td>\n",
       "      <td>1128523790</td>\n",
       "      <td>clk</td>\n",
       "      <td>20190619</td>\n",
       "    </tr>\n",
       "    <tr>\n",
       "      <th>9</th>\n",
       "      <td>1732029186</td>\n",
       "      <td>1178406787</td>\n",
       "      <td>clk</td>\n",
       "      <td>20190620</td>\n",
       "    </tr>\n",
       "  </tbody>\n",
       "</table>\n",
       "</div>"
      ],
      "text/plain": [
       "      user_id     item_id behavior      date\n",
       "0  1732029186  1175762408      clk  20190620\n",
       "1  1732029186   319336376      clk  20190619\n",
       "2  1732029186  1162343852      clk  20190611\n",
       "3  1732029186  1197151915      clk  20190619\n",
       "4  1732029186  1145629824      clk  20190619\n",
       "5  1732029186  1188080625      clk  20190617\n",
       "6  1732029186  1162473275      clk  20190619\n",
       "7  1732029186  1162421364      clk  20190611\n",
       "8  1732029186  1128523790      clk  20190619\n",
       "9  1732029186  1178406787      clk  20190620"
      ]
     },
     "execution_count": 3,
     "metadata": {},
     "output_type": "execute_result"
    }
   ],
   "source": [
    "train = pd.read_csv(mid_pre + \"train.csv\", header=None, sep='\\t', names=['user_id', 'item_id', 'behavior', 'date'])\n",
    "train.head(10)"
   ]
  },
  {
   "cell_type": "code",
   "execution_count": 4,
   "metadata": {},
   "outputs": [
    {
     "data": {
      "text/html": [
       "<div>\n",
       "<style>\n",
       "    .dataframe thead tr:only-child th {\n",
       "        text-align: right;\n",
       "    }\n",
       "\n",
       "    .dataframe thead th {\n",
       "        text-align: left;\n",
       "    }\n",
       "\n",
       "    .dataframe tbody tr th {\n",
       "        vertical-align: top;\n",
       "    }\n",
       "</style>\n",
       "<table border=\"1\" class=\"dataframe\">\n",
       "  <thead>\n",
       "    <tr style=\"text-align: right;\">\n",
       "      <th></th>\n",
       "      <th>item_id</th>\n",
       "      <th>cate_1_id</th>\n",
       "      <th>cate_id</th>\n",
       "      <th>brand_id</th>\n",
       "      <th>price</th>\n",
       "    </tr>\n",
       "  </thead>\n",
       "  <tbody>\n",
       "    <tr>\n",
       "      <th>0</th>\n",
       "      <td>43152</td>\n",
       "      <td>50022703</td>\n",
       "      <td>50003881</td>\n",
       "      <td>30652</td>\n",
       "      <td>1749.00</td>\n",
       "    </tr>\n",
       "    <tr>\n",
       "      <th>1</th>\n",
       "      <td>133107</td>\n",
       "      <td>11</td>\n",
       "      <td>110502</td>\n",
       "      <td>26683</td>\n",
       "      <td>189.98</td>\n",
       "    </tr>\n",
       "    <tr>\n",
       "      <th>2</th>\n",
       "      <td>138801</td>\n",
       "      <td>50010788</td>\n",
       "      <td>50010815</td>\n",
       "      <td>20067</td>\n",
       "      <td>538.50</td>\n",
       "    </tr>\n",
       "    <tr>\n",
       "      <th>3</th>\n",
       "      <td>140174</td>\n",
       "      <td>50010788</td>\n",
       "      <td>50010815</td>\n",
       "      <td>20112</td>\n",
       "      <td>814.00</td>\n",
       "    </tr>\n",
       "    <tr>\n",
       "      <th>4</th>\n",
       "      <td>237779</td>\n",
       "      <td>1801</td>\n",
       "      <td>50011980</td>\n",
       "      <td>20000</td>\n",
       "      <td>39.00</td>\n",
       "    </tr>\n",
       "    <tr>\n",
       "      <th>5</th>\n",
       "      <td>241352</td>\n",
       "      <td>1801</td>\n",
       "      <td>50011993</td>\n",
       "      <td>20096</td>\n",
       "      <td>990.00</td>\n",
       "    </tr>\n",
       "    <tr>\n",
       "      <th>6</th>\n",
       "      <td>280943</td>\n",
       "      <td>50010788</td>\n",
       "      <td>50010796</td>\n",
       "      <td>20074</td>\n",
       "      <td>19.90</td>\n",
       "    </tr>\n",
       "    <tr>\n",
       "      <th>7</th>\n",
       "      <td>287275</td>\n",
       "      <td>50010788</td>\n",
       "      <td>50010805</td>\n",
       "      <td>20060</td>\n",
       "      <td>198.00</td>\n",
       "    </tr>\n",
       "    <tr>\n",
       "      <th>8</th>\n",
       "      <td>304312</td>\n",
       "      <td>1801</td>\n",
       "      <td>50011980</td>\n",
       "      <td>20105</td>\n",
       "      <td>268.00</td>\n",
       "    </tr>\n",
       "    <tr>\n",
       "      <th>9</th>\n",
       "      <td>3024515</td>\n",
       "      <td>50002768</td>\n",
       "      <td>350213</td>\n",
       "      <td>30822</td>\n",
       "      <td>137.90</td>\n",
       "    </tr>\n",
       "  </tbody>\n",
       "</table>\n",
       "</div>"
      ],
      "text/plain": [
       "   item_id  cate_1_id   cate_id  brand_id    price\n",
       "0    43152   50022703  50003881     30652  1749.00\n",
       "1   133107         11    110502     26683   189.98\n",
       "2   138801   50010788  50010815     20067   538.50\n",
       "3   140174   50010788  50010815     20112   814.00\n",
       "4   237779       1801  50011980     20000    39.00\n",
       "5   241352       1801  50011993     20096   990.00\n",
       "6   280943   50010788  50010796     20074    19.90\n",
       "7   287275   50010788  50010805     20060   198.00\n",
       "8   304312       1801  50011980     20105   268.00\n",
       "9  3024515   50002768    350213     30822   137.90"
      ]
     },
     "execution_count": 4,
     "metadata": {},
     "output_type": "execute_result"
    }
   ],
   "source": [
    "item_feature = pd.read_csv(mid_pre + \"item_feature.csv\", header=None, sep=\"\\t\", names=['item_id', 'cate_1_id', 'cate_id', 'brand_id', 'price'])\n",
    "item_feature.head(10)"
   ]
  },
  {
   "cell_type": "code",
   "execution_count": 5,
   "metadata": {
    "collapsed": true
   },
   "outputs": [],
   "source": [
    "def for_loop_count():\n",
    "    t1 = time_now()\n",
    "    count = {}\n",
    "    for item in train.values:\n",
    "        if item[2] in count:\n",
    "            count[item[2]] += 1\n",
    "        else:\n",
    "            count[item[2]] = 1\n",
    "    return (time_now() - t1).microseconds"
   ]
  },
  {
   "cell_type": "code",
   "execution_count": 6,
   "metadata": {
    "collapsed": true
   },
   "outputs": [],
   "source": [
    "def grouby_count():\n",
    "    t1 = time_now()\n",
    "    count = train.groupby(by='behavior')['user_id'].count()\n",
    "    return (time_now() - t1).microseconds"
   ]
  },
  {
   "cell_type": "code",
   "execution_count": 7,
   "metadata": {},
   "outputs": [
    {
     "name": "stdout",
     "output_type": "stream",
     "text": [
      "groupby耗时： 3911.9 微秒\n",
      "for 循环耗时： 53546.6 微秒\n",
      "差距: 13.688131087195481 倍\n"
     ]
    }
   ],
   "source": [
    "time_cost1 = 0\n",
    "for i in range(10):\n",
    "    time_cost1 += grouby_count()\n",
    "print('groupby耗时：', time_cost1 / 10, '微秒')\n",
    "\n",
    "time_cost2 = 0\n",
    "for i in range(10):\n",
    "    time_cost2 += for_loop_count()\n",
    "print('for 循环耗时：',time_cost2 / 10, '微秒')\n",
    "\n",
    "print('差距:', time_cost2 / time_cost1, '倍')"
   ]
  },
  {
   "cell_type": "code",
   "execution_count": 8,
   "metadata": {
    "collapsed": true
   },
   "outputs": [],
   "source": [
    "item_cate_group = item_feature.groupby('item_id')\n",
    "def replace_item_with_target(item_id, cluster_target):\n",
    "    try:\n",
    "        return item_cate_group.get_group(item_id)[cluster_target].values[0]\n",
    "    except KeyError:\n",
    "        return -1\n",
    "train['brand_id'] = train['item_id'].apply(lambda x: replace_item_with_target(x, 'brand_id'))\n",
    "train.drop(train[train['brand_id'] == -1].index, inplace=True)\n",
    "user_group = train.groupby(['user_id'])\n",
    "user_set = user_group.user_id.indices.keys()\n",
    "brand_item_group = item_feature.groupby('brand_id')\n",
    "user_dict = {}"
   ]
  },
  {
   "cell_type": "code",
   "execution_count": 9,
   "metadata": {
    "collapsed": true
   },
   "outputs": [],
   "source": [
    "def query_with_loc():\n",
    "    t1 = time_now()\n",
    "    for user in user_set:\n",
    "        brand_id_list = user_group.get_group(user)['brand_id'].values\n",
    "        temp_df = item_feature.loc[item_feature.brand_id.isin(brand_id_list)]['item_id']\n",
    "        # 将int64转化为int，因为int64不可hash\n",
    "        item_list = list(map(int, temp_df.values))\n",
    "        user_dict[user] = item_list\n",
    "    return (time_now() - t1).microseconds"
   ]
  },
  {
   "cell_type": "code",
   "execution_count": 10,
   "metadata": {
    "collapsed": true
   },
   "outputs": [],
   "source": [
    "def query_with_groupby():\n",
    "    t1 = time_now()\n",
    "    for user in user_set:\n",
    "        brand_id_list = user_group.get_group(user)['brand_id'].values\n",
    "        item_list = []\n",
    "        for brand in brand_id_list:\n",
    "            item_list += list(brand_item_group.get_group(brand)['item_id'])\n",
    "        user_dict[user] = list(map(int, item_list))\n",
    "    return (time_now() - t1).microseconds"
   ]
  },
  {
   "cell_type": "code",
   "execution_count": 11,
   "metadata": {},
   "outputs": [
    {
     "name": "stdout",
     "output_type": "stream",
     "text": [
      "loc 耗时： 554681.3 微秒\n",
      "groupby 耗时： 413089.5 微秒\n",
      "差距: 25.53%\n"
     ]
    }
   ],
   "source": [
    "time_cost1 = 0\n",
    "for i in range(10):\n",
    "    time_cost1 += query_with_loc()\n",
    "print('loc 耗时：', time_cost1 / 10, '微秒')\n",
    "\n",
    "time_cost2 = 0\n",
    "for i in range(10):\n",
    "    time_cost2 += query_with_groupby()\n",
    "print('groupby 耗时：',time_cost2 / 10, '微秒')\n",
    "\n",
    "print('差距:', str(round((time_cost1 - time_cost2)/ time_cost1 * 100, 2)) + \"%\")"
   ]
  },
  {
   "cell_type": "code",
   "execution_count": 12,
   "metadata": {},
   "outputs": [
    {
     "name": "stdout",
     "output_type": "stream",
     "text": [
      "{0: 1, 1: 1, 2: 1, 3: 1, 4: 1, 5: 1, 6: 1, 7: 1, 8: 1, 9: 1}\n"
     ]
    }
   ],
   "source": [
    "from multiprocessing import Manager\n",
    "from multiprocessing import Process\n",
    "\n",
    "def target_func(i):\n",
    "    d[i] = 1\n",
    "\n",
    "if __name__==\"__main__\":\n",
    "    m=Manager()\n",
    "    # 使用Manager创建字典\n",
    "    d=m.dict({})\n",
    "    P=[]\n",
    "    for i in range(10):\n",
    "        p=Process(target=target_func,args=[i])\n",
    "        # 非守护进程，即主进程会等待子进程结束\n",
    "        p.daemon = True\n",
    "        P.append(p)\n",
    "    # 开始进程\n",
    "    [p.start() for p in P]\n",
    "    # 等待子进程结束\n",
    "    [p.join() for p in P]\n",
    "    print(d)"
   ]
  },
  {
   "cell_type": "code",
   "execution_count": null,
   "metadata": {
    "collapsed": true
   },
   "outputs": [],
   "source": []
  }
 ],
 "metadata": {
  "kernelspec": {
   "display_name": "Python 3",
   "language": "python",
   "name": "python3"
  },
  "language_info": {
   "codemirror_mode": {
    "name": "ipython",
    "version": 3
   },
   "file_extension": ".py",
   "mimetype": "text/x-python",
   "name": "python",
   "nbconvert_exporter": "python",
   "pygments_lexer": "ipython3",
   "version": "3.6.8"
  }
 },
 "nbformat": 4,
 "nbformat_minor": 2
}
